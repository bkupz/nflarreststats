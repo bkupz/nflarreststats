{
 "cells": [
  {
   "cell_type": "code",
   "execution_count": 37,
   "metadata": {},
   "outputs": [
    {
     "name": "stderr",
     "output_type": "stream",
     "text": [
      "/Users/bradygerndt/anaconda/lib/python3.6/site-packages/IPython/core/interactiveshell.py:2717: DtypeWarning: Columns (17) have mixed types. Specify dtype option on import or set low_memory=False.\n",
      "  interactivity=interactivity, compiler=compiler, result=result)\n"
     ]
    }
   ],
   "source": [
    "import numpy as np\n",
    "import networkx as nx\n",
    "import matplotlib.pylab as plt\n",
    "import pandas as pd\n",
    "\n",
    "\n",
    "\n",
    "%matplotlib inline\n",
    "\n",
    "\n",
    "#assuming the importation of data as pandas data frames before here\n",
    "\n",
    "#====begin making graph/network====\n",
    "\n",
    "\n",
    "dfP=pd.read_csv('./data/final.csv')\n",
    "dfP.rename(columns={'Category':'crimeCount'}, inplace=True)\n",
    "\n",
    "## set true to draw all of the plots\n",
    "drawPlots = False;\n",
    "\n",
    "\n"
   ]
  },
  {
   "cell_type": "code",
   "execution_count": 38,
   "metadata": {
    "collapsed": true
   },
   "outputs": [],
   "source": [
    "#Making networks\n",
    "from networkx.algorithms import bipartite\n",
    "teamsGraph=nx.Graph()\n",
    "teams=dfP.team.unique()\n",
    "\n",
    "\n",
    "for i in teams:\n",
    "\tteamsGraph.add_node(i,team=1,bipartite=0,crimes=-1) #team name\n",
    "\n",
    "names=dfP.name.unique()\t\n",
    "\n",
    "\n",
    "\n",
    "for name in names:#number of players\n",
    "  \n",
    "    nameTemp=dfP[(dfP.name==name)]\n",
    "\n",
    "    playerCrimes=nameTemp.crimeCount.unique()\n",
    "  \n",
    "    crimee=0\n",
    "    for crim in playerCrimes:\n",
    "        if crim==1:\n",
    "            crimee=1\n",
    "    teamsGraph.add_node(name,crimes=crimee, bipartite=1)\n",
    "    \n",
    "    playerTeams=nameTemp.team.unique()\n",
    "    for team in playerTeams:\n",
    "        teamsGraph.add_edge(team,name)\n",
    "\n",
    "\t\t\n",
    "    \n"
   ]
  },
  {
   "cell_type": "code",
   "execution_count": 39,
   "metadata": {
    "collapsed": true,
    "scrolled": true
   },
   "outputs": [],
   "source": [
    "#Actual network analysis\n",
    "\n",
    "\n",
    "interestNodes=[n for n,m in teamsGraph.nodes(data=True) if (m['bipartite']==0 or m['crimes']==1)]\n",
    "crimeNodes=[n for n,m in teamsGraph.nodes(data=True) if (m['crimes']==1)]\n",
    "notCrimeNodes=[n for n,m in teamsGraph.nodes(data=True) if (m['crimes']==0)]\n",
    "\n",
    "teamNodes=[n for n,m in teamsGraph.nodes(data=True) if (m['crimes']==-1)]\n",
    "listOfEdges = [edge for edge in teamsGraph.edges()]\n",
    "\n",
    "## see https://stackoverflow.com/questions/16910538/efficient-extraction-of-a-subgraph-according-to-some-edge-attribute-in-networkx\n",
    "crimeNet=teamsGraph.subgraph(interestNodes)\n",
    "crimeEdges= [edge for edge in crimeNet.edges()]\n",
    "#\n",
    "#\n",
    "##cool network analysis \n",
    "C=nx.clustering(crimeNet)\n",
    "B=nx.betweenness_centrality(crimeNet)\n",
    "crAdjMat=crimeNetAdjMat = nx.adjacency_matrix(crimeNet)\n",
    "#\n",
    "#ax(B[ x)\n",
    "import operator\n",
    "maxBet=max(B.items(), key=operator.itemgetter(1))[0]\n",
    "minBet=min(B.items(), key=operator.itemgetter(1))[0]\n",
    "\n",
    "\n",
    "\n"
   ]
  },
  {
   "cell_type": "code",
   "execution_count": 40,
   "metadata": {},
   "outputs": [],
   "source": [
    "if drawPlots:\n",
    "    pos = nx.spring_layout(crimeNet)\n",
    "    nx.draw_networkx_nodes(crimeNet, pos, nodelist=crimeNodes, cmap=plt.get_cmap('jet'), node_color = 'r',node_size=10)\n",
    "    nx.draw_networkx_nodes(crimeNet, pos, nodelist=teamNodes, cmap=plt.get_cmap('jet'),node_color = 'g',node_size=10)\n",
    "\n",
    "    nx.draw_networkx_edges(crimeNet, pos, edgelist=crimeEdges, arrows=False)"
   ]
  },
  {
   "cell_type": "code",
   "execution_count": 41,
   "metadata": {},
   "outputs": [],
   "source": [
    "if drawPlots:  \n",
    "    pos = nx.spring_layout(teamsGraph)\n",
    "    nx.draw_networkx_nodes(teamsGraph, pos, nodelist=notCrimeNodes, cmap=plt.get_cmap('jet'), node_color = 'b',node_size=10)\n",
    "    nx.draw_networkx_nodes(teamsGraph, pos, nodelist=crimeNodes, cmap=plt.get_cmap('jet'), node_color = 'r',node_size=10)\n",
    "    nx.draw_networkx_nodes(teamsGraph, pos, nodelist=teamNodes, cmap=plt.get_cmap('jet'),node_color = 'g',node_size=10)\n",
    "    #nx.draw_networkx_labels(teamsGraph, pos)\n",
    "    nx.draw_networkx_edges(teamsGraph, pos, edgelist=listOfEdges, arrows=False)\n",
    "    #plt.figure(figsize=)\n",
    "    #plt.savefig(\"fullNet.png\", dpi=1000)\n",
    "    #plt.savefig(\"fullNet.pdf\")\n",
    "    plt.show()\n"
   ]
  },
  {
   "cell_type": "code",
   "execution_count": 42,
   "metadata": {},
   "outputs": [],
   "source": [
    "playerNodes = (notCrimeNodes + crimeNodes)\n",
    "\n",
    "uniTeamsGraph = bipartite.projected_graph(teamsGraph, playerNodes)\n",
    "\n",
    "uniEdges = uniTeamsGraph.edges()\n"
   ]
  },
  {
   "cell_type": "code",
   "execution_count": 43,
   "metadata": {
    "collapsed": true
   },
   "outputs": [],
   "source": [
    "if drawPlots:\n",
    "    pos = nx.spring_layout(uniTeamsGraph)\n",
    "    nx.draw_networkx_nodes(uniTeamsGraph, pos, nodelist=notCrimeNodes, cmap=plt.get_cmap('jet'), node_color = 'b',node_size=10)\n",
    "    nx.draw_networkx_nodes(uniTeamsGraph, pos, nodelist=crimeNodes, cmap=plt.get_cmap('jet'), node_color = 'r',node_size=10)\n",
    "    nx.draw_networkx_edges(uniTeamsGraph, pos, edgelist=uniEdges, arrows=False)\n"
   ]
  },
  {
   "cell_type": "code",
   "execution_count": 44,
   "metadata": {},
   "outputs": [],
   "source": [
    "uniCrimesGraph = bipartite.projected_graph(crimeNet, crimeNodes)\n",
    "uniCrimeEdges = uniCrimesGraph.edges()\n",
    "\n",
    "if drawPlots:\n",
    "    nx.draw(uniCrimesGraph)\n"
   ]
  },
  {
   "cell_type": "code",
   "execution_count": 45,
   "metadata": {
    "collapsed": true
   },
   "outputs": [],
   "source": [
    "crimeGraph=nx.Graph()\n",
    "crimeList = ['Alcohol','Animal Abuse','Assault / Battery', 'DUI','Disorderly conduct','Domestic Violence','Drugs','Gun','License / Traffic','Murder / Manslaughter','Resisting','Sex','Other','Theft / Burglary']\n",
    "\n",
    "for i in crimeList:\n",
    "    crimeGraph.add_node(i,issaCrime=1)\n",
    "    \n",
    "dfC = dfP[(dfP.crimeCount >= 1)]\n",
    "\n",
    "for i in dfC.name.unique():\n",
    "    crimeGraph.add_node(i, issaCrime=0)\n",
    "\n",
    "\n",
    "def createCrimeNodes(i, row):\n",
    "    for crime in crimeList:\n",
    "        if row[crime] >= 1:\n",
    "            crimeGraph.add_edge(crime, row['name'])\n",
    "[createCrimeNodes(i, row) for i, row in dfC.iterrows()]\n",
    "\n",
    "# print(dict([n for n, m in crimeGraph.nodes(data=True) if (m['issaCrime']==1)]))\n",
    "labels = dict((key, key) for (key, value) in crimeGraph.nodes(data=True) if (value['issaCrime']==1))\n",
    "\n",
    "crimeNodes =[n for n,m in crimeGraph.nodes(data=True) if (m['issaCrime']==1)]\n",
    "playNodes =[n for n,m in crimeGraph.nodes(data=True) if (m['issaCrime']==0)]\n",
    "listOfCrimeEdges= [edge for edge in crimeGraph.edges()]\n"
   ]
  },
  {
   "cell_type": "code",
   "execution_count": 46,
   "metadata": {},
   "outputs": [],
   "source": [
    "#printing graph that links players crimes to the crimes\n",
    "if drawPlots:\n",
    "    pos = nx.spring_layout(crimeGraph)\n",
    "    nx.draw_networkx_nodes(crimeGraph, pos, nodelist=crimeNodes, cmap=plt.get_cmap('jet'), node_color = 'r',node_size=20)\n",
    "    nx.draw_networkx_nodes(crimeGraph, pos, nodelist=playNodes, cmap=plt.get_cmap('jet'),node_color = 'g',node_size=10)\n",
    "    nx.draw_networkx_edges(crimeGraph, pos, edgelist=listOfCrimeEdges, arrows=False)\n",
    "    nx.draw_networkx_labels(crimeGraph, pos, labels=labels)\n",
    "\n"
   ]
  },
  {
   "cell_type": "code",
   "execution_count": 47,
   "metadata": {},
   "outputs": [],
   "source": [
    "###Degree centrality by team in crime net\n",
    "D = crimeNet.degree()\n",
    "degrees = sorted(set(D.values()))\n",
    "degree_agg = [list(D.values()).count(x) for x in degrees]\n",
    "    \n",
    "teamDegrees = {}\n",
    "for key in list((D))[:32]:\n",
    "    teamDegrees[key] = D[key]\n",
    "\n",
    "##identify team nodes for centrality measures\n",
    "teamNodes = set(n for n,d in crimeNet.nodes(data=True) if d['bipartite']==0)\n",
    "\n",
    "##Closeness by team in crime net\n",
    "TC = bipartite.closeness_centrality(crimeNet, teamNodes)\n",
    "\n",
    "teamCloseness = {}\n",
    "for key in list((TC))[:32]:\n",
    "    teamCloseness[key] = TC[key]\n",
    "\n",
    "##Betweenness by team in crime net\n",
    "TB = bipartite.betweenness_centrality(crimeNet, teamNodes)\n",
    "\n",
    "teamBetweenness = {}\n",
    "for key in list((TB))[:32]:\n",
    "\n",
    "    teamBetweenness[key] = TB[key]\n",
    "\n",
    "\n",
    "if drawPlots:\n",
    "    plt.figure(figsize=(10,8))\n",
    "    plt.plot(degrees, degree_agg)\n",
    "\n",
    "    plt.legend('')\n",
    "    plt.ylabel('Number of nodes (Player/Team)')\n",
    "    plt.xlabel('Degree')\n",
    "    plt.ylim(1,200)\n",
    "\n",
    "    plt.title(\"Degree metrics for Crime Network\")\n",
    "    plt.savefig(\"DegreeMet.png\")\n",
    "\n",
    "if drawPlots:\n",
    "    plt.figure(figsize=(10,8))\n",
    "    plt.bar(range(len(teamBetweenness)), teamBetweenness.values())\n",
    "    plt.xticks(range(len(teamBetweenness)), teamBetweenness.keys(), rotation=90)\n",
    "    plt.title(\"Betweenness Centrality for NFL teams in the Crime Network\")\n",
    "    plt.ylabel('Betweenness')\n",
    "    plt.xlabel(\"Team\")\n",
    "    plt.savefig(\"BetweenMet.png\")\n",
    "    plt.show()\n"
   ]
  },
  {
   "cell_type": "code",
   "execution_count": 48,
   "metadata": {},
   "outputs": [],
   "source": [
    "##Metrics to add to data\n",
    "\n",
    "\n",
    "##takes too long for the wholegraph\n",
    "##closeness in one-mode graph\n",
    "#cl = nx.closeness_centrality(uniTeamsGraph)\n",
    "#bt = nx.betweenness_centrality(uniTeamsGraph)\n",
    "\n",
    "\n",
    "##we'll go with team crime graph metrics\n",
    "\n",
    "# TC = bipartite.closeness_centrality(crimeNet, teamNodes)\n",
    "\n",
    "# teamCloseness = {}\n",
    "# for key in list((TC))[:32]:\n",
    "#     teamCloseness[key] = TC[key]\n",
    "    \n",
    "# teamDegrees = {}\n",
    "# for key in list((D))[:32]:\n",
    "#     teamDegrees[key] = D[key]\n",
    "\n",
    "\n",
    "\n",
    "def matchNetworkMeasures(team):\n",
    "    dfP.loc[(dfP.team == team), 'Team_Degrees'] = teamDegrees[team]\n",
    "    dfP.loc[(dfP.team == team), 'Team_Closeness'] = teamCloseness[team]\n",
    "    dfP.loc[(dfP.team == team), 'Team_Betweenness'] = teamBetweenness[team]\n",
    "\n",
    "[matchNetworkMeasures(team) for team in dfP.team.unique()]\n",
    "\n",
    "#matchNetworkMeasures('NYJ')\n",
    "\n",
    "#dfP.loc[(dfP.team == \"NYJ\"), ['Team_Degrees','Team_Closeness','Team_Betweenness']]\n",
    "\n",
    "    \n",
    "dfP.to_csv('./data/final_networked_by_team.csv', index=False)"
   ]
  },
  {
   "cell_type": "code",
   "execution_count": null,
   "metadata": {
    "collapsed": true
   },
   "outputs": [],
   "source": []
  }
 ],
 "metadata": {
  "kernelspec": {
   "display_name": "Python 3",
   "language": "python",
   "name": "python3"
  },
  "language_info": {
   "codemirror_mode": {
    "name": "ipython",
    "version": 3
   },
   "file_extension": ".py",
   "mimetype": "text/x-python",
   "name": "python",
   "nbconvert_exporter": "python",
   "pygments_lexer": "ipython3",
   "version": "3.6.1"
  }
 },
 "nbformat": 4,
 "nbformat_minor": 2
}
