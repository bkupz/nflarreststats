{
 "cells": [
  {
   "cell_type": "code",
   "execution_count": 1,
   "metadata": {
    "collapsed": true
   },
   "outputs": [],
   "source": [
    "import math\n",
    "import pandas as pd\n",
    "import numpy as np\n",
    "import matplotlib.pyplot as plt\n",
    "import seaborn as sns\n",
    "%matplotlib inline"
   ]
  },
  {
   "cell_type": "code",
   "execution_count": 2,
   "metadata": {
    "collapsed": true
   },
   "outputs": [],
   "source": [
    "##Final data with team network stats\n",
    "df = pd.read_csv('./data/final_networked_by_team.csv')"
   ]
  },
  {
   "cell_type": "code",
   "execution_count": 3,
   "metadata": {
    "collapsed": true
   },
   "outputs": [],
   "source": [
    "df[['Pos', 'College','team','Draft_Team']] = df[['Pos', 'College','team','Draft_Team']].fillna(value=\"\")\n",
    "df[['Draft_Round', 'Draft_Pick','Draft_Year','crimeCount','No','GS']] = df[['Draft_Round', 'Draft_Pick','Draft_Year','crimeCount','No','GS']].fillna(value=0)\n",
    "\n",
    "avgAge = math.floor(df['Age'].mean())\n",
    "avgHt = math.floor(df['Ht'].mean())\n",
    "avgWt = math.floor(df['Wt'].mean())\n",
    "avgBD = math.floor(df['BirthDate'].mean())\n",
    "df['Age'] = df['Age'].fillna(value=avgAge)\n",
    "df['Ht'] = df['Ht'].fillna(value=avgHt)\n",
    "df['Wt'] = df['Wt'].fillna(value=avgWt)\n",
    "df['BirthDate'] = df['BirthDate'].fillna(value=avgBD)"
   ]
  },
  {
   "cell_type": "code",
   "execution_count": 4,
   "metadata": {},
   "outputs": [
    {
     "data": {
      "text/html": [
       "<div>\n",
       "<style>\n",
       "    .dataframe thead tr:only-child th {\n",
       "        text-align: right;\n",
       "    }\n",
       "\n",
       "    .dataframe thead th {\n",
       "        text-align: left;\n",
       "    }\n",
       "\n",
       "    .dataframe tbody tr th {\n",
       "        vertical-align: top;\n",
       "    }\n",
       "</style>\n",
       "<table border=\"1\" class=\"dataframe\">\n",
       "  <thead>\n",
       "    <tr style=\"text-align: right;\">\n",
       "      <th></th>\n",
       "      <th>Pos</th>\n",
       "      <th>College</th>\n",
       "      <th>team</th>\n",
       "      <th>Draft_Team</th>\n",
       "    </tr>\n",
       "  </thead>\n",
       "  <tbody>\n",
       "    <tr>\n",
       "      <th>26007</th>\n",
       "      <td>SS</td>\n",
       "      <td>Virginia Tech</td>\n",
       "      <td>SEA</td>\n",
       "      <td>Seattle Seahawks</td>\n",
       "    </tr>\n",
       "  </tbody>\n",
       "</table>\n",
       "</div>"
      ],
      "text/plain": [
       "      Pos        College team         Draft_Team\n",
       "26007  SS  Virginia Tech  SEA  Seattle Seahawks "
      ]
     },
     "execution_count": 4,
     "metadata": {},
     "output_type": "execute_result"
    }
   ],
   "source": [
    "#df.head()\n",
    "df[['Pos', 'College','team','Draft_Team']].sample()"
   ]
  },
  {
   "cell_type": "code",
   "execution_count": 5,
   "metadata": {},
   "outputs": [
    {
     "name": "stdout",
     "output_type": "stream",
     "text": [
      "<class 'pandas.core.frame.DataFrame'>\n",
      "RangeIndex: 33282 entries, 0 to 33281\n",
      "Data columns (total 38 columns):\n",
      "No                       33282 non-null float64\n",
      "name                     33282 non-null object\n",
      "Age                      33282 non-null float64\n",
      "Pos                      33282 non-null object\n",
      "G                        33282 non-null float64\n",
      "GS                       33282 non-null float64\n",
      "Wt                       33282 non-null float64\n",
      "Ht                       33282 non-null float64\n",
      "College                  33282 non-null object\n",
      "BirthDate                33282 non-null float64\n",
      "Yrs                      33282 non-null int64\n",
      "AV                       33281 non-null float64\n",
      "team                     33282 non-null object\n",
      "year                     33282 non-null float64\n",
      "Draft_Team               33282 non-null object\n",
      "Draft_Round              33282 non-null float64\n",
      "Draft_Pick               33282 non-null float64\n",
      "Draft_Year               33282 non-null float64\n",
      "crimeCount               33282 non-null float64\n",
      "DUI                      679 non-null float64\n",
      "Other                    679 non-null float64\n",
      "Drugs                    679 non-null float64\n",
      "Domestic Violence        679 non-null float64\n",
      "Resisting                679 non-null float64\n",
      "Assault / Battery        679 non-null float64\n",
      "Gun                      679 non-null float64\n",
      "Alcohol                  679 non-null float64\n",
      "License / Traffic        679 non-null float64\n",
      "Disorderly conduct       679 non-null float64\n",
      "Sex                      679 non-null float64\n",
      "Theft / Burglary         679 non-null float64\n",
      "Murder / Manslaughter    679 non-null float64\n",
      "Animal Abuse             679 non-null float64\n",
      "Team_Degrees             33282 non-null float64\n",
      "Team_Closeness           33282 non-null float64\n",
      "Team_Betweenness         33282 non-null float64\n",
      "player_Degrees           33282 non-null float64\n",
      "player_Eigen             33282 non-null float64\n",
      "dtypes: float64(32), int64(1), object(5)\n",
      "memory usage: 9.6+ MB\n"
     ]
    }
   ],
   "source": [
    "df.info()"
   ]
  },
  {
   "cell_type": "code",
   "execution_count": 6,
   "metadata": {
    "scrolled": true
   },
   "outputs": [
    {
     "data": {
      "text/html": [
       "<div>\n",
       "<style>\n",
       "    .dataframe thead tr:only-child th {\n",
       "        text-align: right;\n",
       "    }\n",
       "\n",
       "    .dataframe thead th {\n",
       "        text-align: left;\n",
       "    }\n",
       "\n",
       "    .dataframe tbody tr th {\n",
       "        vertical-align: top;\n",
       "    }\n",
       "</style>\n",
       "<table border=\"1\" class=\"dataframe\">\n",
       "  <thead>\n",
       "    <tr style=\"text-align: right;\">\n",
       "      <th></th>\n",
       "      <th>No</th>\n",
       "      <th>Age</th>\n",
       "      <th>G</th>\n",
       "      <th>GS</th>\n",
       "      <th>Wt</th>\n",
       "      <th>Ht</th>\n",
       "      <th>BirthDate</th>\n",
       "      <th>Yrs</th>\n",
       "      <th>AV</th>\n",
       "      <th>year</th>\n",
       "      <th>...</th>\n",
       "      <th>Disorderly conduct</th>\n",
       "      <th>Sex</th>\n",
       "      <th>Theft / Burglary</th>\n",
       "      <th>Murder / Manslaughter</th>\n",
       "      <th>Animal Abuse</th>\n",
       "      <th>Team_Degrees</th>\n",
       "      <th>Team_Closeness</th>\n",
       "      <th>Team_Betweenness</th>\n",
       "      <th>player_Degrees</th>\n",
       "      <th>player_Eigen</th>\n",
       "    </tr>\n",
       "  </thead>\n",
       "  <tbody>\n",
       "    <tr>\n",
       "      <th>count</th>\n",
       "      <td>33282.000000</td>\n",
       "      <td>33282.000000</td>\n",
       "      <td>33282.000000</td>\n",
       "      <td>33282.000000</td>\n",
       "      <td>33282.000000</td>\n",
       "      <td>33282.000000</td>\n",
       "      <td>33282.000000</td>\n",
       "      <td>33282.000000</td>\n",
       "      <td>33281.000000</td>\n",
       "      <td>33282.000000</td>\n",
       "      <td>...</td>\n",
       "      <td>679.000000</td>\n",
       "      <td>679.000000</td>\n",
       "      <td>679.000000</td>\n",
       "      <td>679.000000</td>\n",
       "      <td>679.000000</td>\n",
       "      <td>33282.000000</td>\n",
       "      <td>33282.000000</td>\n",
       "      <td>33282.000000</td>\n",
       "      <td>33282.000000</td>\n",
       "      <td>33282.000000</td>\n",
       "    </tr>\n",
       "    <tr>\n",
       "      <th>mean</th>\n",
       "      <td>52.814584</td>\n",
       "      <td>26.646806</td>\n",
       "      <td>11.523286</td>\n",
       "      <td>5.751337</td>\n",
       "      <td>243.628268</td>\n",
       "      <td>74.004507</td>\n",
       "      <td>724114.593474</td>\n",
       "      <td>3.551499</td>\n",
       "      <td>3.370121</td>\n",
       "      <td>2008.205186</td>\n",
       "      <td>...</td>\n",
       "      <td>0.051546</td>\n",
       "      <td>0.026510</td>\n",
       "      <td>0.027982</td>\n",
       "      <td>0.008837</td>\n",
       "      <td>0.008837</td>\n",
       "      <td>36.281233</td>\n",
       "      <td>0.364585</td>\n",
       "      <td>0.055353</td>\n",
       "      <td>983.394658</td>\n",
       "      <td>0.012325</td>\n",
       "    </tr>\n",
       "    <tr>\n",
       "      <th>std</th>\n",
       "      <td>29.055944</td>\n",
       "      <td>3.399155</td>\n",
       "      <td>5.163789</td>\n",
       "      <td>6.310930</td>\n",
       "      <td>45.076659</td>\n",
       "      <td>0.392354</td>\n",
       "      <td>4296.345344</td>\n",
       "      <td>3.302294</td>\n",
       "      <td>3.601035</td>\n",
       "      <td>4.879879</td>\n",
       "      <td>...</td>\n",
       "      <td>0.221272</td>\n",
       "      <td>0.160763</td>\n",
       "      <td>0.173751</td>\n",
       "      <td>0.093656</td>\n",
       "      <td>0.093656</td>\n",
       "      <td>7.881125</td>\n",
       "      <td>0.009935</td>\n",
       "      <td>0.016987</td>\n",
       "      <td>506.647746</td>\n",
       "      <td>0.006349</td>\n",
       "    </tr>\n",
       "    <tr>\n",
       "      <th>min</th>\n",
       "      <td>0.000000</td>\n",
       "      <td>20.000000</td>\n",
       "      <td>1.000000</td>\n",
       "      <td>0.000000</td>\n",
       "      <td>150.000000</td>\n",
       "      <td>66.000000</td>\n",
       "      <td>718800.000000</td>\n",
       "      <td>-3.000000</td>\n",
       "      <td>-5.000000</td>\n",
       "      <td>2000.000000</td>\n",
       "      <td>...</td>\n",
       "      <td>0.000000</td>\n",
       "      <td>0.000000</td>\n",
       "      <td>0.000000</td>\n",
       "      <td>0.000000</td>\n",
       "      <td>0.000000</td>\n",
       "      <td>21.000000</td>\n",
       "      <td>0.341232</td>\n",
       "      <td>0.022637</td>\n",
       "      <td>327.000000</td>\n",
       "      <td>0.003090</td>\n",
       "    </tr>\n",
       "    <tr>\n",
       "      <th>25%</th>\n",
       "      <td>27.000000</td>\n",
       "      <td>24.000000</td>\n",
       "      <td>7.000000</td>\n",
       "      <td>0.000000</td>\n",
       "      <td>205.000000</td>\n",
       "      <td>74.000000</td>\n",
       "      <td>722042.000000</td>\n",
       "      <td>1.000000</td>\n",
       "      <td>1.000000</td>\n",
       "      <td>2004.000000</td>\n",
       "      <td>...</td>\n",
       "      <td>0.000000</td>\n",
       "      <td>0.000000</td>\n",
       "      <td>0.000000</td>\n",
       "      <td>0.000000</td>\n",
       "      <td>0.000000</td>\n",
       "      <td>31.000000</td>\n",
       "      <td>0.358655</td>\n",
       "      <td>0.042566</td>\n",
       "      <td>482.000000</td>\n",
       "      <td>0.006350</td>\n",
       "    </tr>\n",
       "    <tr>\n",
       "      <th>50%</th>\n",
       "      <td>54.000000</td>\n",
       "      <td>26.000000</td>\n",
       "      <td>14.000000</td>\n",
       "      <td>3.000000</td>\n",
       "      <td>236.000000</td>\n",
       "      <td>74.000000</td>\n",
       "      <td>723690.000000</td>\n",
       "      <td>3.000000</td>\n",
       "      <td>2.000000</td>\n",
       "      <td>2008.000000</td>\n",
       "      <td>...</td>\n",
       "      <td>0.000000</td>\n",
       "      <td>0.000000</td>\n",
       "      <td>0.000000</td>\n",
       "      <td>0.000000</td>\n",
       "      <td>0.000000</td>\n",
       "      <td>37.000000</td>\n",
       "      <td>0.365947</td>\n",
       "      <td>0.056650</td>\n",
       "      <td>883.000000</td>\n",
       "      <td>0.011299</td>\n",
       "    </tr>\n",
       "    <tr>\n",
       "      <th>75%</th>\n",
       "      <td>80.000000</td>\n",
       "      <td>29.000000</td>\n",
       "      <td>16.000000</td>\n",
       "      <td>12.000000</td>\n",
       "      <td>281.000000</td>\n",
       "      <td>74.000000</td>\n",
       "      <td>725446.000000</td>\n",
       "      <td>5.000000</td>\n",
       "      <td>6.000000</td>\n",
       "      <td>2012.000000</td>\n",
       "      <td>...</td>\n",
       "      <td>0.000000</td>\n",
       "      <td>0.000000</td>\n",
       "      <td>0.000000</td>\n",
       "      <td>0.000000</td>\n",
       "      <td>0.000000</td>\n",
       "      <td>41.000000</td>\n",
       "      <td>0.370656</td>\n",
       "      <td>0.070111</td>\n",
       "      <td>1290.000000</td>\n",
       "      <td>0.016396</td>\n",
       "    </tr>\n",
       "    <tr>\n",
       "      <th>max</th>\n",
       "      <td>99.000000</td>\n",
       "      <td>47.000000</td>\n",
       "      <td>16.000000</td>\n",
       "      <td>16.000000</td>\n",
       "      <td>376.000000</td>\n",
       "      <td>80.000000</td>\n",
       "      <td>755320.000000</td>\n",
       "      <td>25.000000</td>\n",
       "      <td>26.000000</td>\n",
       "      <td>2016.000000</td>\n",
       "      <td>...</td>\n",
       "      <td>1.000000</td>\n",
       "      <td>1.000000</td>\n",
       "      <td>2.000000</td>\n",
       "      <td>1.000000</td>\n",
       "      <td>1.000000</td>\n",
       "      <td>50.000000</td>\n",
       "      <td>0.382979</td>\n",
       "      <td>0.085786</td>\n",
       "      <td>3528.000000</td>\n",
       "      <td>0.040974</td>\n",
       "    </tr>\n",
       "  </tbody>\n",
       "</table>\n",
       "<p>8 rows × 33 columns</p>\n",
       "</div>"
      ],
      "text/plain": [
       "                 No           Age             G            GS            Wt  \\\n",
       "count  33282.000000  33282.000000  33282.000000  33282.000000  33282.000000   \n",
       "mean      52.814584     26.646806     11.523286      5.751337    243.628268   \n",
       "std       29.055944      3.399155      5.163789      6.310930     45.076659   \n",
       "min        0.000000     20.000000      1.000000      0.000000    150.000000   \n",
       "25%       27.000000     24.000000      7.000000      0.000000    205.000000   \n",
       "50%       54.000000     26.000000     14.000000      3.000000    236.000000   \n",
       "75%       80.000000     29.000000     16.000000     12.000000    281.000000   \n",
       "max       99.000000     47.000000     16.000000     16.000000    376.000000   \n",
       "\n",
       "                 Ht      BirthDate           Yrs            AV          year  \\\n",
       "count  33282.000000   33282.000000  33282.000000  33281.000000  33282.000000   \n",
       "mean      74.004507  724114.593474      3.551499      3.370121   2008.205186   \n",
       "std        0.392354    4296.345344      3.302294      3.601035      4.879879   \n",
       "min       66.000000  718800.000000     -3.000000     -5.000000   2000.000000   \n",
       "25%       74.000000  722042.000000      1.000000      1.000000   2004.000000   \n",
       "50%       74.000000  723690.000000      3.000000      2.000000   2008.000000   \n",
       "75%       74.000000  725446.000000      5.000000      6.000000   2012.000000   \n",
       "max       80.000000  755320.000000     25.000000     26.000000   2016.000000   \n",
       "\n",
       "           ...       Disorderly conduct         Sex  Theft / Burglary  \\\n",
       "count      ...               679.000000  679.000000        679.000000   \n",
       "mean       ...                 0.051546    0.026510          0.027982   \n",
       "std        ...                 0.221272    0.160763          0.173751   \n",
       "min        ...                 0.000000    0.000000          0.000000   \n",
       "25%        ...                 0.000000    0.000000          0.000000   \n",
       "50%        ...                 0.000000    0.000000          0.000000   \n",
       "75%        ...                 0.000000    0.000000          0.000000   \n",
       "max        ...                 1.000000    1.000000          2.000000   \n",
       "\n",
       "       Murder / Manslaughter  Animal Abuse  Team_Degrees  Team_Closeness  \\\n",
       "count             679.000000    679.000000  33282.000000    33282.000000   \n",
       "mean                0.008837      0.008837     36.281233        0.364585   \n",
       "std                 0.093656      0.093656      7.881125        0.009935   \n",
       "min                 0.000000      0.000000     21.000000        0.341232   \n",
       "25%                 0.000000      0.000000     31.000000        0.358655   \n",
       "50%                 0.000000      0.000000     37.000000        0.365947   \n",
       "75%                 0.000000      0.000000     41.000000        0.370656   \n",
       "max                 1.000000      1.000000     50.000000        0.382979   \n",
       "\n",
       "       Team_Betweenness  player_Degrees  player_Eigen  \n",
       "count      33282.000000    33282.000000  33282.000000  \n",
       "mean           0.055353      983.394658      0.012325  \n",
       "std            0.016987      506.647746      0.006349  \n",
       "min            0.022637      327.000000      0.003090  \n",
       "25%            0.042566      482.000000      0.006350  \n",
       "50%            0.056650      883.000000      0.011299  \n",
       "75%            0.070111     1290.000000      0.016396  \n",
       "max            0.085786     3528.000000      0.040974  \n",
       "\n",
       "[8 rows x 33 columns]"
      ]
     },
     "execution_count": 6,
     "metadata": {},
     "output_type": "execute_result"
    }
   ],
   "source": [
    "df.describe()"
   ]
  },
  {
   "cell_type": "code",
   "execution_count": 7,
   "metadata": {
    "collapsed": true
   },
   "outputs": [],
   "source": [
    "##Handling categorical data\n",
    "from sklearn import preprocessing\n",
    "le = preprocessing.LabelEncoder()\n",
    "\n",
    "pos = df['Pos']\n",
    "le.fit(pos)\n",
    "po = le.transform(pos)\n",
    "df['Pos'] = po\n",
    "\n",
    "col = df['College']\n",
    "le.fit(col)\n",
    "co = le.transform(col)\n",
    "df['College'] = co\n",
    "\n",
    "team = df['team']\n",
    "le.fit(team)\n",
    "te = le.transform(team)\n",
    "df['team'] = te\n",
    "\n",
    "dteam = df['Draft_Team']\n",
    "le.fit(dteam)\n",
    "dte = le.transform(dteam)\n",
    "df['Draft_Team'] = dte\n",
    "\n"
   ]
  },
  {
   "cell_type": "code",
   "execution_count": 8,
   "metadata": {
    "collapsed": true
   },
   "outputs": [],
   "source": [
    "df.to_csv('data/final_encoded.csv')"
   ]
  },
  {
   "cell_type": "code",
   "execution_count": 9,
   "metadata": {},
   "outputs": [
    {
     "data": {
      "text/plain": [
       "No                  False\n",
       "Age                 False\n",
       "Pos                 False\n",
       "G                   False\n",
       "GS                  False\n",
       "Wt                  False\n",
       "Ht                  False\n",
       "College             False\n",
       "BirthDate           False\n",
       "Yrs                 False\n",
       "team                False\n",
       "year                False\n",
       "Draft_Team          False\n",
       "Draft_Round         False\n",
       "Draft_Pick          False\n",
       "Draft_Year          False\n",
       "Team_Degrees        False\n",
       "Team_Closeness      False\n",
       "Team_Betweenness    False\n",
       "player_Degrees      False\n",
       "player_Eigen        False\n",
       "dtype: bool"
      ]
     },
     "execution_count": 9,
     "metadata": {},
     "output_type": "execute_result"
    }
   ],
   "source": [
    "dropList = ['name','crimeCount','DUI','Other','Drugs','Domestic Violence','Resisting','Assault / Battery','Gun','Alcohol','License / Traffic','Disorderly conduct','Sex','Theft / Burglary','Murder / Manslaughter','Animal Abuse','AV']\n",
    "\n",
    "X = df.drop(dropList, axis=1)\n",
    "y = df['crimeCount']\n",
    "\n",
    "X.isnull().any()\n",
    "#set(y.isnull())\n",
    "\n"
   ]
  },
  {
   "cell_type": "code",
   "execution_count": 10,
   "metadata": {
    "collapsed": true
   },
   "outputs": [],
   "source": [
    "from sklearn.model_selection import train_test_split\n",
    "X_train, X_test, y_train, y_test = train_test_split(X, y, test_size = 0.4, random_state = 22)"
   ]
  },
  {
   "cell_type": "code",
   "execution_count": 11,
   "metadata": {},
   "outputs": [
    {
     "data": {
      "text/plain": [
       "RandomForestClassifier(bootstrap=True, class_weight=None, criterion='gini',\n",
       "            max_depth=None, max_features='auto', max_leaf_nodes=None,\n",
       "            min_impurity_decrease=0.0, min_impurity_split=None,\n",
       "            min_samples_leaf=1, min_samples_split=2,\n",
       "            min_weight_fraction_leaf=0.0, n_estimators=300, n_jobs=1,\n",
       "            oob_score=False, random_state=None, verbose=0,\n",
       "            warm_start=False)"
      ]
     },
     "execution_count": 11,
     "metadata": {},
     "output_type": "execute_result"
    }
   ],
   "source": [
    "from sklearn.ensemble import RandomForestClassifier\n",
    "rfc = RandomForestClassifier(n_estimators = 300)\n",
    "rfc.fit(X_train, y_train)"
   ]
  },
  {
   "cell_type": "code",
   "execution_count": 12,
   "metadata": {
    "collapsed": true
   },
   "outputs": [],
   "source": [
    "rfc_pred = rfc.predict(X_test)\n"
   ]
  },
  {
   "cell_type": "code",
   "execution_count": 13,
   "metadata": {},
   "outputs": [
    {
     "name": "stdout",
     "output_type": "stream",
     "text": [
      "             precision    recall  f1-score   support\n",
      "\n",
      "        0.0       0.98      1.00      0.99     13050\n",
      "        1.0       0.79      0.18      0.29       249\n",
      "        2.0       0.00      0.00      0.00        14\n",
      "        3.0       0.00      0.00      0.00         0\n",
      "\n",
      "avg / total       0.98      0.98      0.98     13313\n",
      "\n"
     ]
    },
    {
     "name": "stderr",
     "output_type": "stream",
     "text": [
      "C:\\ProgramData\\Anaconda3\\lib\\site-packages\\sklearn\\metrics\\classification.py:1135: UndefinedMetricWarning: Precision and F-score are ill-defined and being set to 0.0 in labels with no predicted samples.\n",
      "  'precision', 'predicted', average, warn_for)\n",
      "C:\\ProgramData\\Anaconda3\\lib\\site-packages\\sklearn\\metrics\\classification.py:1137: UndefinedMetricWarning: Recall and F-score are ill-defined and being set to 0.0 in labels with no true samples.\n",
      "  'recall', 'true', average, warn_for)\n"
     ]
    }
   ],
   "source": [
    "from sklearn.metrics import classification_report, confusion_matrix\n",
    "print(classification_report(y_test, rfc_pred))"
   ]
  },
  {
   "cell_type": "code",
   "execution_count": 14,
   "metadata": {},
   "outputs": [
    {
     "name": "stdout",
     "output_type": "stream",
     "text": [
      "[[13040    10     0     0]\n",
      " [  204    44     0     1]\n",
      " [   12     2     0     0]\n",
      " [    0     0     0     0]]\n"
     ]
    }
   ],
   "source": [
    "print(confusion_matrix(y_test, rfc_pred))"
   ]
  },
  {
   "cell_type": "code",
   "execution_count": null,
   "metadata": {
    "collapsed": true
   },
   "outputs": [],
   "source": []
  }
 ],
 "metadata": {
  "kernelspec": {
   "display_name": "Python 3",
   "language": "python",
   "name": "python3"
  },
  "language_info": {
   "codemirror_mode": {
    "name": "ipython",
    "version": 3
   },
   "file_extension": ".py",
   "mimetype": "text/x-python",
   "name": "python",
   "nbconvert_exporter": "python",
   "pygments_lexer": "ipython3",
   "version": "3.6.3"
  }
 },
 "nbformat": 4,
 "nbformat_minor": 2
}
